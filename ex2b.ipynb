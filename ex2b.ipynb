{
 "cells": [
  {
   "cell_type": "markdown",
   "metadata": {},
   "source": [
    "# Exercise 2b: Feature engineering"
   ]
  },
  {
   "cell_type": "code",
   "execution_count": 232,
   "metadata": {},
   "outputs": [],
   "source": [
    "import pandas as pd\n",
    "import numpy as np\n",
    "from sklearn.ensemble import RandomForestClassifier\n",
    "from sklearn.metrics import accuracy_score, precision_score, recall_score, f1_score, roc_auc_score\n",
    "import re\n",
    "import seaborn as sns\n",
    "import matplotlib.pyplot as plt"
   ]
  },
  {
   "cell_type": "code",
   "execution_count": 233,
   "metadata": {},
   "outputs": [],
   "source": [
    "X_train = pd.read_csv(\"ex2_train.csv\")\n",
    "y_train = pd.read_csv(\"ex2_class_train.csv\")\n",
    "X_test = pd.read_csv(\"ex2_test.csv\")\n",
    "y_test = pd.read_csv(\"ex2_class_test.csv\")"
   ]
  },
  {
   "cell_type": "code",
   "execution_count": 234,
   "metadata": {},
   "outputs": [],
   "source": [
    "# define a utility function to print out the prediction performance\n",
    "def evaluate_result_deprecated(y_test, y_pred, clf):\n",
    "    print(f'Accuracy: {accuracy_score(y_test, y_pred):.4f}')\n",
    "    print(f'Precision: {precision_score(y_test, y_pred):.4f}')\n",
    "    print(f'Recall: {recall_score(y_test, y_pred):.4f}')\n",
    "    print(f'F1-score: {f1_score(y_test, y_pred):.4f}')\n",
    "    print(f'AUC-ROC: {roc_auc_score(y_test, clf.predict_proba(X_test_processed)[:, 1]):.4f}')"
   ]
  },
  {
   "cell_type": "code",
   "execution_count": null,
   "id": "a5716883",
   "metadata": {},
   "outputs": [],
   "source": [
    "# new utility function to print out the prediction performance\n",
    "def evaluate_result(y_test, y_pred, clf, X_test):\n",
    "    accuracy = accuracy_score(y_test, y_pred)\n",
    "    precision = precision_score(y_test, y_pred)\n",
    "    recall = recall_score(y_test, y_pred)\n",
    "    f1 = f1_score(y_test, y_pred)\n",
    "    roc_auc = roc_auc_score(y_test, clf.predict_proba(X_test)[:, 1])\n",
    "\n",
    "    print(f'Accuracy: {accuracy:.4f}')\n",
    "    print(f'Precision: {precision:.4f}')\n",
    "    print(f'Recall: {recall:.4f}')\n",
    "    print(f'F1-score: {f1:.4f}')\n",
    "    print(f'AUC-ROC: {roc_auc:.4f}')\n",
    "    return accuracy, precision, recall, f1, roc_auc"
   ]
  },
  {
   "cell_type": "markdown",
   "metadata": {},
   "source": [
    "## Prototyping (without feature engineering)"
   ]
  },
  {
   "cell_type": "code",
   "execution_count": 236,
   "metadata": {},
   "outputs": [],
   "source": [
    "def preprocess(data_in):\n",
    "    data = data_in.drop(columns=['Name'])\n",
    "    \n",
    "    data['Age'].fillna(data['Age'].median(), inplace=True)\n",
    "    data['Embarked'].fillna(data['Embarked'].mode()[0], inplace=True)\n",
    "    data['Fare'].fillna(data['Fare'].median(), inplace=True)\n",
    "\n",
    "    # Convert categorical variables to dummy/indicator variables\n",
    "    data = pd.get_dummies(data, columns=['Sex', 'Embarked'], drop_first=True)\n",
    "\n",
    "    return data"
   ]
  },
  {
   "cell_type": "code",
   "execution_count": 237,
   "id": "643a9b94",
   "metadata": {},
   "outputs": [
    {
     "name": "stdout",
     "output_type": "stream",
     "text": [
      "Random Forest Model without Feature Engineering\n",
      "Accuracy: 0.8101\n",
      "Precision: 0.7778\n",
      "Recall: 0.7568\n",
      "F1-score: 0.7671\n",
      "AUC-ROC: 0.8736\n"
     ]
    }
   ],
   "source": [
    "X_train_processed = preprocess(X_train)\n",
    "X_test_processed = preprocess(X_test)\n",
    "\n",
    "clf = RandomForestClassifier(n_estimators=100, random_state=42)\n",
    "clf.fit(X_train_processed, y_train.values.ravel())\n",
    "y_pred = clf.predict(X_test_processed)\n",
    "\n",
    "print('Random Forest Model without Feature Engineering')\n",
    "base_acc, base_prec, base_rec, base_f1, base_auc = evaluate_result(y_test, y_pred, clf, X_test_processed)"
   ]
  },
  {
   "cell_type": "markdown",
   "metadata": {},
   "source": [
    "## Feature engineering"
   ]
  },
  {
   "cell_type": "markdown",
   "metadata": {},
   "source": [
    "The classification using simple preprocessed data gives only mediocre performance.\n",
    "\n",
    "**TODO: You should make use of the insights from your EDA (ex2a) to complete the following feature engineering function below.** Later the function will replace the simple preprocessing.\n",
    "\n",
    "You will pass the exercise if your feature engineering can improve the performance (i.e., winning in three or more metrics)."
   ]
  },
  {
   "cell_type": "code",
   "execution_count": 248,
   "metadata": {},
   "outputs": [],
   "source": [
    "def feature_engineering(data_in):\n",
    "    df = data_in.copy()\n",
    "    \n",
    "    df[\"Title\"] = df[\"Name\"].str.extract(r\",\\s*([^\\.]*)\\.\", expand=False).str.strip()\n",
    "\n",
    "    # Normalizing duplicates (not used anymore)\n",
    "    #df[\"Title\"] = df[\"Title\"].replace({\n",
    "    #    \"Mlle\": \"Miss\",\n",
    "    #    \"Ms\": \"Miss\",\n",
    "    #    \"Mme\": \"Mrs\"\n",
    "    #})\n",
    "    \n",
    "    # Grouping rare titles (to avoid overfitting))\n",
    "    important_woman = [\"Lady\", \"Mlle\", \"Mme\", \"Ms\", \"the Countess\"]\n",
    "    df[\"Title\"] = df[\"Title\"].replace(important_woman, \"ImportantWoman\")\n",
    "    df[\"ImportantWoman\"] = (df[\"Title\"] == \"ImportantWoman\").astype(int)\n",
    "    df[\"Mr\"] = (df[\"Title\"] == \"Mr\").astype(int)\n",
    "    df.drop(columns=[\"Title\"], inplace=True)\n",
    "\n",
    "    # Grouping by age\n",
    "    df[\"Child\"] = (df[\"Age\"] < 10).astype(int)\n",
    "    df[\"Adult\"] = ((df[\"Age\"] >= 10) & (df[\"Age\"] <= 60)).astype(int)\n",
    "    df[\"Senior\"] = (df[\"Age\"] > 60).astype(int)\n",
    "\n",
    "    # Grouping by fare\n",
    "    df[\"LowFare\"] = (df[\"Fare\"] < 10).astype(int)\n",
    "    df[\"MediumFare\"] = ((df[\"Fare\"] >= 10) & (df[\"Fare\"] < 30)).astype(int)\n",
    "    df[\"HighFare\"] = (df[\"Fare\"] >= 30).astype(int)\n",
    "\n",
    "    df = preprocess(df)\n",
    "\n",
    "    # Family features\n",
    "    df[\"FamilySize\"] = df[\"SibSp\"] + df[\"Parch\"] + 1\n",
    "    df[\"IsAlone\"] = (df[\"FamilySize\"] == 1).astype(int)\n",
    "    \n",
    "    return df"
   ]
  },
  {
   "cell_type": "markdown",
   "id": "43f43251",
   "metadata": {},
   "source": [
    "I extracted the Titles and added two features representing important women (Lady, Mlle, Mme, Ms, Countess) and \"Mr\".\n",
    "I also grouped people by age, since it seemed an important feature for survival rate prediction.\n",
    "I also added features for Family Size, Being Alone (family size of 1), and Fare grouping."
   ]
  },
  {
   "cell_type": "code",
   "execution_count": 249,
   "id": "b1c8f18e",
   "metadata": {},
   "outputs": [],
   "source": [
    "X_train_processed_engineered = feature_engineering(X_train)\n",
    "X_test_processed_engineered = feature_engineering(X_test)"
   ]
  },
  {
   "cell_type": "code",
   "execution_count": 240,
   "id": "d8121fbc",
   "metadata": {},
   "outputs": [
    {
     "data": {
      "text/html": [
       "<div>\n",
       "<style scoped>\n",
       "    .dataframe tbody tr th:only-of-type {\n",
       "        vertical-align: middle;\n",
       "    }\n",
       "\n",
       "    .dataframe tbody tr th {\n",
       "        vertical-align: top;\n",
       "    }\n",
       "\n",
       "    .dataframe thead th {\n",
       "        text-align: right;\n",
       "    }\n",
       "</style>\n",
       "<table border=\"1\" class=\"dataframe\">\n",
       "  <thead>\n",
       "    <tr style=\"text-align: right;\">\n",
       "      <th></th>\n",
       "      <th>Pclass</th>\n",
       "      <th>Age</th>\n",
       "      <th>SibSp</th>\n",
       "      <th>Parch</th>\n",
       "      <th>Fare</th>\n",
       "      <th>ImportantWoman</th>\n",
       "      <th>Mr</th>\n",
       "      <th>Child</th>\n",
       "      <th>YoungAdult</th>\n",
       "      <th>Adult</th>\n",
       "      <th>LowFare</th>\n",
       "      <th>MediumFare</th>\n",
       "      <th>HighFare</th>\n",
       "      <th>Sex_male</th>\n",
       "      <th>Embarked_Q</th>\n",
       "      <th>Embarked_S</th>\n",
       "      <th>FamilySize</th>\n",
       "      <th>IsAlone</th>\n",
       "    </tr>\n",
       "  </thead>\n",
       "  <tbody>\n",
       "    <tr>\n",
       "      <th>0</th>\n",
       "      <td>1</td>\n",
       "      <td>45.5</td>\n",
       "      <td>0</td>\n",
       "      <td>0</td>\n",
       "      <td>28.5000</td>\n",
       "      <td>0</td>\n",
       "      <td>1</td>\n",
       "      <td>0</td>\n",
       "      <td>0</td>\n",
       "      <td>1</td>\n",
       "      <td>0</td>\n",
       "      <td>1</td>\n",
       "      <td>0</td>\n",
       "      <td>1</td>\n",
       "      <td>0</td>\n",
       "      <td>1</td>\n",
       "      <td>1</td>\n",
       "      <td>1</td>\n",
       "    </tr>\n",
       "    <tr>\n",
       "      <th>1</th>\n",
       "      <td>2</td>\n",
       "      <td>23.0</td>\n",
       "      <td>0</td>\n",
       "      <td>0</td>\n",
       "      <td>13.0000</td>\n",
       "      <td>0</td>\n",
       "      <td>1</td>\n",
       "      <td>0</td>\n",
       "      <td>1</td>\n",
       "      <td>0</td>\n",
       "      <td>0</td>\n",
       "      <td>1</td>\n",
       "      <td>0</td>\n",
       "      <td>1</td>\n",
       "      <td>0</td>\n",
       "      <td>1</td>\n",
       "      <td>1</td>\n",
       "      <td>1</td>\n",
       "    </tr>\n",
       "    <tr>\n",
       "      <th>2</th>\n",
       "      <td>3</td>\n",
       "      <td>32.0</td>\n",
       "      <td>0</td>\n",
       "      <td>0</td>\n",
       "      <td>7.9250</td>\n",
       "      <td>0</td>\n",
       "      <td>1</td>\n",
       "      <td>0</td>\n",
       "      <td>1</td>\n",
       "      <td>0</td>\n",
       "      <td>1</td>\n",
       "      <td>0</td>\n",
       "      <td>0</td>\n",
       "      <td>1</td>\n",
       "      <td>0</td>\n",
       "      <td>1</td>\n",
       "      <td>1</td>\n",
       "      <td>1</td>\n",
       "    </tr>\n",
       "    <tr>\n",
       "      <th>3</th>\n",
       "      <td>3</td>\n",
       "      <td>26.0</td>\n",
       "      <td>1</td>\n",
       "      <td>0</td>\n",
       "      <td>7.8542</td>\n",
       "      <td>0</td>\n",
       "      <td>1</td>\n",
       "      <td>0</td>\n",
       "      <td>1</td>\n",
       "      <td>0</td>\n",
       "      <td>1</td>\n",
       "      <td>0</td>\n",
       "      <td>0</td>\n",
       "      <td>1</td>\n",
       "      <td>0</td>\n",
       "      <td>1</td>\n",
       "      <td>2</td>\n",
       "      <td>0</td>\n",
       "    </tr>\n",
       "    <tr>\n",
       "      <th>4</th>\n",
       "      <td>3</td>\n",
       "      <td>6.0</td>\n",
       "      <td>4</td>\n",
       "      <td>2</td>\n",
       "      <td>31.2750</td>\n",
       "      <td>0</td>\n",
       "      <td>0</td>\n",
       "      <td>1</td>\n",
       "      <td>0</td>\n",
       "      <td>0</td>\n",
       "      <td>0</td>\n",
       "      <td>0</td>\n",
       "      <td>1</td>\n",
       "      <td>0</td>\n",
       "      <td>0</td>\n",
       "      <td>1</td>\n",
       "      <td>7</td>\n",
       "      <td>0</td>\n",
       "    </tr>\n",
       "  </tbody>\n",
       "</table>\n",
       "</div>"
      ],
      "text/plain": [
       "   Pclass   Age  SibSp  Parch     Fare  ImportantWoman  Mr  Child  YoungAdult  \\\n",
       "0       1  45.5      0      0  28.5000               0   1      0           0   \n",
       "1       2  23.0      0      0  13.0000               0   1      0           1   \n",
       "2       3  32.0      0      0   7.9250               0   1      0           1   \n",
       "3       3  26.0      1      0   7.8542               0   1      0           1   \n",
       "4       3   6.0      4      2  31.2750               0   0      1           0   \n",
       "\n",
       "   Adult  LowFare  MediumFare  HighFare  Sex_male  Embarked_Q  Embarked_S  \\\n",
       "0      1        0           1         0         1           0           1   \n",
       "1      0        0           1         0         1           0           1   \n",
       "2      0        1           0         0         1           0           1   \n",
       "3      0        1           0         0         1           0           1   \n",
       "4      0        0           0         1         0           0           1   \n",
       "\n",
       "   FamilySize  IsAlone  \n",
       "0           1        1  \n",
       "1           1        1  \n",
       "2           1        1  \n",
       "3           2        0  \n",
       "4           7        0  "
      ]
     },
     "execution_count": 240,
     "metadata": {},
     "output_type": "execute_result"
    }
   ],
   "source": [
    "X_train_processed_engineered.head()"
   ]
  },
  {
   "cell_type": "code",
   "execution_count": 250,
   "metadata": {},
   "outputs": [
    {
     "name": "stdout",
     "output_type": "stream",
     "text": [
      "Random Forest Model with Feature Engineering\n",
      "Accuracy: 0.8324\n",
      "Precision: 0.8143\n",
      "Recall: 0.7703\n",
      "F1-score: 0.7917\n",
      "AUC-ROC: 0.8955\n"
     ]
    }
   ],
   "source": [
    "clf_engineered = RandomForestClassifier(n_estimators=100, random_state=42)\n",
    "clf_engineered.fit(X_train_processed_engineered, y_train.values.ravel())\n",
    "y_pred_eng = clf_engineered.predict(X_test_processed_engineered)\n",
    "\n",
    "print('Random Forest Model with Feature Engineering')\n",
    "eng_acc, eng_prec, eng_rec, eng_f1, eng_auc = evaluate_result(y_test, y_pred_eng, clf_engineered, X_test_processed_engineered)"
   ]
  },
  {
   "cell_type": "code",
   "execution_count": 251,
   "metadata": {},
   "outputs": [
    {
     "name": "stdout",
     "output_type": "stream",
     "text": [
      "Accuracy Improvement: 0.0223\n",
      "Precision Improvement: 0.0365\n",
      "Recall Improvement: 0.0135\n",
      "F1 Improvement: 0.0245\n",
      "AUC-ROC Improvement: 0.0219\n"
     ]
    }
   ],
   "source": [
    "acc_imrpovement = eng_acc - base_acc\n",
    "print(f'Accuracy Improvement: {acc_imrpovement:.4f}')\n",
    "prec_improvement = eng_prec - base_prec\n",
    "print(f'Precision Improvement: {prec_improvement:.4f}')\n",
    "rec_improvement = eng_rec - base_rec\n",
    "print(f'Recall Improvement: {rec_improvement:.4f}')\n",
    "f1_improvement = eng_f1 - base_f1\n",
    "print(f'F1 Improvement: {f1_improvement:.4f}')\n",
    "auc_improvement = eng_auc - base_auc\n",
    "print(f'AUC-ROC Improvement: {auc_improvement:.4f}')"
   ]
  },
  {
   "cell_type": "markdown",
   "id": "a05dcfa1",
   "metadata": {},
   "source": [
    "All metrics improved!"
   ]
  },
  {
   "cell_type": "code",
   "execution_count": 243,
   "id": "5fc31d87",
   "metadata": {},
   "outputs": [
    {
     "name": "stdout",
     "output_type": "stream",
     "text": [
      "Wrong predictions in base model: 34\n",
      "Wrong predictions in engineered model: 30\n",
      "Total predictions: 179\n"
     ]
    }
   ],
   "source": [
    "# Counting wrong predictions from base and engineered models\n",
    "wrong_base = np.sum(y_pred != y_test.values.ravel())\n",
    "wrong_engineered = np.sum(y_pred_eng != y_test.values.ravel())\n",
    "print(f'Wrong predictions in base model: {wrong_base}')\n",
    "print(f'Wrong predictions in engineered model: {wrong_engineered}')\n",
    "print(f\"Total predictions: {len(y_test)}\")"
   ]
  },
  {
   "cell_type": "markdown",
   "id": "c4f4f498",
   "metadata": {},
   "source": [
    "We also got less wrong predictions"
   ]
  }
 ],
 "metadata": {
  "kernelspec": {
   "display_name": "base",
   "language": "python",
   "name": "python3"
  },
  "language_info": {
   "codemirror_mode": {
    "name": "ipython",
    "version": 3
   },
   "file_extension": ".py",
   "mimetype": "text/x-python",
   "name": "python",
   "nbconvert_exporter": "python",
   "pygments_lexer": "ipython3",
   "version": "3.10.9"
  }
 },
 "nbformat": 4,
 "nbformat_minor": 5
}
